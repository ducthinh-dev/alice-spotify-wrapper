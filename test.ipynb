{
 "cells": [
  {
   "cell_type": "code",
   "execution_count": 1,
   "metadata": {},
   "outputs": [],
   "source": [
    "import os\n",
    "from dotenv import load_dotenv\n",
    "from urllib.parse import urlencode\n",
    "import requests\n",
    "import base64"
   ]
  },
  {
   "cell_type": "code",
   "execution_count": 2,
   "metadata": {},
   "outputs": [],
   "source": [
    "from src.engine.utils import generate_random_string"
   ]
  },
  {
   "cell_type": "code",
   "execution_count": 3,
   "metadata": {},
   "outputs": [],
   "source": [
    "load_dotenv()\n",
    "client_id = os.environ.get(\"CLIENT_ID\")\n",
    "client_secret = os.environ.get(\"CLIENT_SECRET\")\n",
    "redirect_uri = os.environ.get(\"REDIRECT_URL\")"
   ]
  },
  {
   "cell_type": "code",
   "execution_count": 36,
   "metadata": {},
   "outputs": [],
   "source": [
    "def get_authorize_url():\n",
    "    state = generate_random_string(16)\n",
    "    scope = \"user-read-private user-read-email\"\n",
    "    response_type = \"code\"\n",
    "    authorize_url = \"https://accounts.spotify.com/authorize?\" + urlencode({\n",
    "        \"response_type\": response_type,\n",
    "        \"client_id\": client_id,\n",
    "        \"scope\": scope,\n",
    "        \"redirect_uri\": redirect_uri,\n",
    "        \"state\": state\n",
    "    })\n",
    "    return authorize_url"
   ]
  },
  {
   "cell_type": "code",
   "execution_count": 37,
   "metadata": {},
   "outputs": [
    {
     "data": {
      "text/plain": [
       "True"
      ]
     },
     "execution_count": 37,
     "metadata": {},
     "output_type": "execute_result"
    }
   ],
   "source": [
    "import webbrowser\n",
    "\n",
    "webbrowser.open(get_authorize_url(), new=0, autoraise=True)"
   ]
  },
  {
   "cell_type": "code",
   "execution_count": 38,
   "metadata": {},
   "outputs": [],
   "source": [
    "current_code = input(\"code\")\n",
    "current_state = input(\"state\")"
   ]
  },
  {
   "cell_type": "code",
   "execution_count": 39,
   "metadata": {},
   "outputs": [],
   "source": [
    "credential = base64.b64encode((client_id + ':' + client_secret).encode()).decode()\n",
    "header = {\n",
    "    \"content-type\": \"application/x-www-form-urlencoded\",\n",
    "    \"Authorization\": \"Basic \" + credential\n",
    "}\n",
    "body = {\n",
    "    \"code\": current_code,\n",
    "    \"redirect_uri\": redirect_uri,\n",
    "    \"grant_type\": \"authorization_code\"\n",
    "}\n",
    "url = \"https://accounts.spotify.com/api/token\"\n",
    "response = requests.post(url, headers=header, data=body)"
   ]
  },
  {
   "cell_type": "code",
   "execution_count": 40,
   "metadata": {},
   "outputs": [],
   "source": [
    "refresh_token = response.json()[\"refresh_token\"]"
   ]
  },
  {
   "cell_type": "code",
   "execution_count": 41,
   "metadata": {},
   "outputs": [],
   "source": [
    "url = \"https://accounts.spotify.com/api/token\"\n",
    "header = {\n",
    "    \"Content-Type\": \"application/x-www-form-urlencoded\"\n",
    "}\n",
    "body = {\n",
    "    \"grant_type\": \"refresh_token\",\n",
    "    \"refresh_token\": refresh_token,\n",
    "    \"client_id\": client_id\n",
    "}\n",
    "response = requests.post(url, data=body)"
   ]
  },
  {
   "cell_type": "code",
   "execution_count": 43,
   "metadata": {},
   "outputs": [
    {
     "data": {
      "text/plain": [
       "{'error': 'invalid_request', 'error_description': ''}"
      ]
     },
     "execution_count": 43,
     "metadata": {},
     "output_type": "execute_result"
    }
   ],
   "source": [
    "response.json()"
   ]
  }
 ],
 "metadata": {
  "kernelspec": {
   "display_name": "Python 3",
   "language": "python",
   "name": "python3"
  },
  "language_info": {
   "codemirror_mode": {
    "name": "ipython",
    "version": 3
   },
   "file_extension": ".py",
   "mimetype": "text/x-python",
   "name": "python",
   "nbconvert_exporter": "python",
   "pygments_lexer": "ipython3",
   "version": "3.11.9"
  }
 },
 "nbformat": 4,
 "nbformat_minor": 2
}
